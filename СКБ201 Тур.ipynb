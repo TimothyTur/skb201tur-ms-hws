{
 "cells": [
  {
   "cell_type": "markdown",
   "id": "28debb71",
   "metadata": {},
   "source": [
    "# СКБ201 Тур Тимофей\n",
    "Теория вероятности, долгосрочные домашние задания.\n",
    "Вариант 68: дискретное - 3, непрерывное - 5.\n",
    "\n",
    "<p> 3 - Дискретное равномерное 1: $P(x) = \\theta^{-1}, x \\in \\{1, ..., \\theta\\}$</p>\n",
    "<p> Обозначим дискретное распределение в дальнейшем за $\\xi$ </p>\n",
    "<p> 5 - Треугольное: $f(x) = \\Biggl\\{ \\begin{align*} & \\frac{2 x}{\\theta}, &если\\, x \\in [0,\\theta] \\\\ & \\frac{2(1-x)}{1-\\theta}, & если\\, x \\in (\\theta,1] \\\\ & 0, & иначе\\end{align*}$</p>\n",
    "<p> Обозначим абсолютно непрерывное распределение в дальнейшем за $\\eta$ </p>\n",
    "\n",
    "---"
   ]
  },
  {
   "cell_type": "markdown",
   "id": "ca27949b",
   "metadata": {},
   "source": [
    "## Домашнее задание 1"
   ]
  },
  {
   "cell_type": "markdown",
   "id": "3cdb4a9b",
   "metadata": {},
   "source": [
    "### Дискретное\n",
    "#### Задание 1\n",
    "<b>Функция распределения</b>\n",
    "<p>$F(n) \\stackrel{\\rm{def}}{=} P(\\xi \\leq n) = \\sum_{k=1}^{n} P(\\xi=k) = \\sum_{k=1}^{n} \\theta^{-1} = \\underline{n\\theta^{-1}}$</p>\n",
    "\n",
    "<b>Математическое ожидание</b>\n",
    "<p>$M\\xi \\stackrel{\\rm{def}}{=} \\sum_{x=1}^{\\theta} x P(\\xi=x) = \\sum_{x=1}^{\\theta} x \\theta^{-1} = \\theta^{-1}\\sum_{x=1}^{\\theta}x = \\theta^{-1} \\frac{1+\\theta}{2} \\theta = \\underline{\\frac{\\theta+1}{2}}$</p>\n",
    "\n",
    "<b>Дисперсия</b>\n",
    "<p>$D\\xi \\stackrel{\\rm{def}}{=} M(\\xi-M\\xi)^{2} = M\\xi^{2}-(M\\xi)^{2} \\\\\n",
    "M\\xi^{2} \\stackrel{\\rm{def}}{=} \\sum_{x=1}^{\\theta} x^{2} P(\\xi=x) = \\theta^{-1}\\sum_{x=1}^{\\theta}x^{2} = \\theta^{-1} \\frac{\\theta(1-\\theta)(1+2\\theta)}{6} = \\frac{(1+\\theta)(1+2\\theta)}{6} \\\\\n",
    "\\Rightarrow D\\xi = M\\xi^{2}-(M\\xi)^{2} = \\frac{(1+\\theta)(1+2\\theta)}{6} - (\\frac{\\theta+1}{2})^2 = \\frac{2(1+3\\theta+2\\theta^2)-3(1+2\\theta+\\theta^2)}{12} = \\underline{\\frac{\\theta^2-1}{12}}$</p>\n",
    "\n",
    "<b>Квантиль уровня $\\gamma$</b>\n",
    "<p>$P(\\xi \\leq x_{\\gamma}) \\geq \\gamma \\Leftrightarrow \\sum_{k=1}^{x_{\\gamma}} P(\\xi=k) \\geq \\gamma \\Leftrightarrow \\sum_{k=1}^{x_{\\gamma}} \\theta^{-1} \\geq \\gamma \\Leftrightarrow x_{\\gamma} \\theta^{-1} \\geq \\gamma \\Leftrightarrow x_{\\gamma} \\geq \\gamma \\theta \\Rightarrow \\underline{x_{\\gamma} = \\gamma \\theta}$</p>\n",
    "\n",
    "#### Задание 2\n",
    "Примером события с дискретным равномерным распределением может быть игра \"Bingo\". Но не вся она, а лишь ее часть. В ней, подобно лото, участникам выдаются цветные листки с числами и маркерами, а ведущий стоит у аппарата, поторый по нажатию кнопки выдает случайный шарик, крутящийся в нем. Шарик имеет цвет и номер, и участники выделяют соответсвующие ячейки на своем листе, пока у них не получатся какая-нибудь соответствующая последовательность. (Лично я увидел эту игру в сериале \"Лучше звоните Солу\" в первом сезоне). Чтобы эта модель была применима к нашему распределению, игру следует упростить: На листке всего 1 номер и мячики не имеют цвета. Тогда шанс появления какого-то мячика будет равен $\\frac{1}{количество\\, мячиков\\, =\\, \\theta}=\\theta^{-1}$, и, соответственно шанс выигрыша какого-то игрока тоже равен $\\theta^{-1}$\n",
    "\n",
    "#### Задание 3\n",
    "Поделим отрезок $[0,1]$ на сегменты равные $\\theta^{-1}$. Их будет в точности $\\theta$ штук, а выборка определяется вхождением в какой из последовательных отрезков получилось у случайной величины: $\\sqsupset u$ - сгенерированная равномерно распределенная величина на отрезке $[0,1]$, тогда $x$ определяется по формуле $(x-1)\\theta^{-1} \\leq u < x\\theta^{-1}$"
   ]
  },
  {
   "cell_type": "code",
   "execution_count": 12,
   "id": "4ea51d07",
   "metadata": {},
   "outputs": [
    {
     "data": {
      "text/plain": [
       "array([[ 12,  50,  17,  27,  30,  15,  18,  31,  28,  31,  45,   7,  26,\n",
       "         42,  52,  50,  12,  22,  22,   6,  34,  55,  43,  56,  16,  25],\n",
       "       [ 46,  56,  13,  51,  64,  15,  43,   5,  34,  45,  29,  58,  46,\n",
       "         20,  53,  48,  32,  65,  14,  13,  38,  34,  13,  39,  44,  60],\n",
       "       [ 43,  47,  79,  67,  68,  70,  52,  25,  24,  80,  32,  35,  14,\n",
       "          9,  54,  41,  56,   9,  21,  61,  83,  45,  14,  11,   8,  48],\n",
       "       [ 27,  95,  63,  20,  70,  33,  53,  36,  55,  20,  72,  73,  80,\n",
       "         53,  93,  33,  39,  55,   9,  58,  23,  27,  77,  81,  62,  23],\n",
       "       [ 88,  48,  22,  83,  99,  61,  10,  56,   7,  88, 108,   8,  15,\n",
       "         92,  82,  34,  55,   6,  13,  61,  88,  46,  40,  55,  77,  82],\n",
       "       [  7,  70,  78, 108,  61, 107,  22,  19,  79,  16,  83,  66, 114,\n",
       "          4,  29,   1,  11,  74, 103,   4,  72,  26,  36,  19,  62,  59]])"
      ]
     },
     "execution_count": 12,
     "metadata": {},
     "output_type": "execute_result"
    }
   ],
   "source": [
    "import numpy as np\n",
    "def generate_discunif(theta):\n",
    "    rng = np.random.default_rng()\n",
    "    u = rng.uniform()\n",
    "    for k in range(1, theta+1):\n",
    "        if (k-1)/theta <= u < k/theta:\n",
    "            return k\n",
    "\n",
    "np.array([[generate_discunif(theta) for i in range(26)] for theta in range(57, 123, 13)])"
   ]
  },
  {
   "cell_type": "markdown",
   "id": "842cfa13",
   "metadata": {},
   "source": [
    "### Абсолютно непрерывное\n",
    "#### Задание 1\n",
    "<b>Функция распределения</b>\n",
    "<p>$F(x) \\stackrel{\\rm{def}}{=} \\int_{\\mathbb{R}} f(x) = \\Biggl\\{ \\begin{align*} & 0, & если\\, x<0 \\\\ & \\int_0^x \\frac{2t}{\\theta} dt, &если\\, x \\in [0,\\theta] \\\\ & \\int_0^{\\theta} \\frac{2t}{\\theta} dt + \\int_{\\theta}^x \\frac{2(1-t)}{1-\\theta} dt, & если\\, x \\in (\\theta,1] \\\\ & \\int_0^{\\theta} \\frac{2t}{\\theta} dt + \\int_{\\theta}^1 \\frac{2(1-t)}{1-\\theta}, & если\\, x>1\\end{align*} \\\\\n",
    "1) \\int_0^x \\frac{2t}{\\theta} dt = \\frac{1}{\\theta}\\int_0^x 2t dt = \\frac{1}{\\theta}t^2\\Big|_0^x = \\frac{1}{\\theta} x^2 \\\\\n",
    "2) \\int_0^{\\theta} \\frac{2t}{\\theta} dt + \\int_{\\theta}^x \\frac{2(1-t)}{1-\\theta} dt = \\theta + \\frac{2}{1-\\theta}\\int_{\\theta}^x (1-t)dt = \\theta + \\frac{2}{1-\\theta}(t-\\frac{1}{2}t^2)\\Big|_{\\theta}^x = \\theta + \\frac{2}{1-\\theta}(x-\\frac{1}{2}x^2-\\theta+\\frac{1}{2}\\theta^2) = \\theta + \\frac{1}{1-\\theta}(2x-x^2-2\\theta+\\theta^2) = \\\\ = \\frac{1}{1-\\theta}(2x-x^2-\\theta) \\\\\n",
    "3) \\int_0^{\\theta} \\frac{2t}{\\theta} dt + \\int_{\\theta}^1 \\frac{2(1-t)}{1-\\theta} = \\frac{1}{1-\\theta}(2-1-\\theta) = \\frac{1-\\theta}{1-\\theta} = 1 $"
   ]
  },
  {
   "cell_type": "markdown",
   "id": "21b8f9c4",
   "metadata": {},
   "source": [
    "$\\Rightarrow \\underline{F(x) = \\Biggl\\{ \\begin{align*} & 0, & если\\, x<0 \\\\ & \\frac{1}{\\theta} x^2, &если\\, x \\in [0,\\theta] \\\\ & \\frac{1}{1-\\theta}(2x-x^2-\\theta), & если\\, x \\in (\\theta,1] \\\\ & 1, & если\\, x>1\\end{align*}}$</p>\n",
    "\n",
    "<b>Математическое ожидание</b>\n",
    "<p>$M\\eta \\stackrel{\\rm{def}}{=} \\int_{\\mathbb{R}} f(x)x dx = \\int_0^{\\theta} \\frac{2 x}{\\theta}x dx + \\int_{\\theta}^1 \\frac{2(1-x)}{1-\\theta}x dx = \\frac{2}{\\theta}\\int_0^{\\theta}x^2 dx + \\frac{2}{1-\\theta}\\int_{\\theta}^1 (x-x^2) dx = \\frac{2}{3\\theta}x^3\\Big|_0^{\\theta} + \\frac{2}{1-\\theta}(\\frac{1}{2}x^2-\\frac{1}{3}x^3)\\Big|_{\\theta}^1 = \\\\ = \\frac{2}{3\\theta}\\theta^3 + \\frac{2}{1-\\theta}(\\frac{1}{2}-\\frac{1}{3}-\\frac{1}{2}\\theta^2+\\frac{1}{3}\\theta^3) = \\frac{2}{3}\\theta^2 + \\frac{2}{1-\\theta}(\\frac{1}{6}+\\frac{2\\theta^3-3\\theta^2}{6}) = \\frac{2\\theta^2}{3} + \\frac{2\\theta^3-3\\theta^2+1}{3(1-\\theta)} = \\frac{2\\theta^2-2\\theta^3+2\\theta^3-3\\theta^2+1}{3(1-\\theta)} = \\frac{1-\\theta^2}{3(1-\\theta)} = \\underline{\\frac{1+\\theta}{3}}$</p>\n",
    "\n",
    "<b>Дисперсия</b>\n",
    "<p>$D\\eta \\stackrel{\\rm{def}}{=} M(\\eta-M\\eta)^{2} = M\\eta^{2}-(M\\eta)^{2} \\\\\n",
    "M\\eta^{2} \\stackrel{\\rm{def}}{=} \\int_{\\mathbb{R}} f(x)x^2 dx = \\int_0^{\\theta} \\frac{2 x}{\\theta}x^2 dx + \\int_{\\theta}^1 \\frac{2(1-x)}{1-\\theta}x^2 dx = \\frac{2}{\\theta}\\int_0^{\\theta}x^3 dx + \\frac{2}{1-\\theta}\\int_{\\theta}^1 (x^2-x^3) dx = \\frac{1}{2\\theta}x^4\\Big|_0^{\\theta} + \\frac{2}{1-\\theta}(\\frac{1}{3}x^3-\\frac{1}{4}x^4)\\Big|_{\\theta}^1 = \\\\ = \\frac{1}{2\\theta}\\theta^4 + \\frac{2}{1-\\theta}(\\frac{1}{3}-\\frac{1}{4}-\\frac{1}{3}\\theta^3+\\frac{1}{4}\\theta^4) = \\frac{1}{2}\\theta^3 + \\frac{2}{1-\\theta}(\\frac{1}{12}+\\frac{3\\theta^4-4\\theta^3}{12}) = \\frac{1}{2}\\theta^3 + \\frac{1}{6(1-\\theta)}(3\\theta^4-4\\theta^3+1) = \\\\ = \\frac{1}{6(1-\\theta)}(3\\theta^4-4\\theta^3+1+3\\theta^3-3\\theta^4) = \\frac{1}{6(1-\\theta)}(1-\\theta^3) = \\frac{1+\\theta+\\theta^2}{6} \\\\\n",
    "\\Rightarrow D\\eta = M\\eta^{2}-(M\\eta)^{2} = \\frac{1+\\theta+\\theta^2}{6} - (\\frac{1+\\theta}{3})^2 = \\frac{3(1+\\theta+\\theta^2)-2(1+2\\theta+\\theta^2)}{18} = \\underline{\\frac{1-\\theta+\\theta^2}{18}}$</p>"
   ]
  },
  {
   "cell_type": "markdown",
   "id": "33e55f43",
   "metadata": {},
   "source": [
    "<b>Квантиль уровня $\\gamma$</b>\n",
    "<p>$F(x_{\\gamma}) \\geq \\gamma \\Rightarrow \\Biggl\\{ \\begin{align*} & x_{\\gamma}=0, & если\\, \\gamma<0 \\\\ & \\frac{1}{\\theta} x_{\\gamma}^2 \\geq \\gamma, &если\\, \\gamma \\in [0,\\theta] \\\\ & \\frac{1}{1-\\theta}(2x_{\\gamma}-x_{\\gamma}^2-\\theta) \\geq \\gamma, & если\\, \\gamma \\in (\\theta,1] \\\\ & x_{\\gamma}=1, & если\\, \\gamma>1\\end{align*} \\\\\n",
    "1) \\frac{1}{\\theta} x_{\\gamma}^2 \\geq \\gamma \\Leftrightarrow x_{\\gamma} \\geq \\sqrt{\\theta \\gamma} \\Rightarrow x_{\\gamma} = \\sqrt{\\theta \\gamma} \\\\\n",
    "2) \\frac{1}{1-\\theta}(2x_{\\gamma}-x_{\\gamma}^2-\\theta) \\geq \\gamma \\Rightarrow \\frac{1}{1-\\theta}(2x_{\\gamma}-x_{\\gamma}^2-\\theta) = \\gamma \\Leftrightarrow -x_{\\gamma}^2+2x_{\\gamma}-\\theta = (1-\\theta)\\gamma \\Leftrightarrow -x_{\\gamma}^2+2x_{\\gamma}-\\theta - \\gamma + \\theta \\gamma = 0 \\Rightarrow D = 4-4(\\theta+\\gamma-\\theta \\gamma) = \\\\ = 4(1-\\theta-\\gamma+\\theta \\gamma) \\Rightarrow x_{\\gamma} = \\frac{-2\\pm2\\sqrt{1-\\theta-\\gamma+\\theta \\gamma}}{-2} = 1\\pm \\sqrt{1-\\theta-\\gamma+\\theta \\gamma}\\,.\\, x_{\\gamma} \\in [\\theta, 1] \\Rightarrow x_{\\gamma} = 1-\\sqrt{1-\\theta-\\gamma+\\theta \\gamma}$</p>"
   ]
  },
  {
   "cell_type": "markdown",
   "id": "fd41df73",
   "metadata": {},
   "source": [
    "<p>$\\Rightarrow \\underline{\\Biggl\\{ \\begin{align*} & x_{\\gamma} = \\sqrt{\\theta \\gamma}, &если\\, \\gamma \\in [0,\\theta] \\\\ & x_{\\gamma} = 1-\\sqrt{1-\\theta-\\gamma+\\theta \\gamma}, & если\\, \\gamma \\in (\\theta,1]\\end{align*}}$</p>\n",
    "\n",
    "#### Задание 2\n",
    "Треугольное распределение на практике используется часто, потому что оно имеет минимум, максимум и пик, что делает его уже достаточным к реальности распределением, так еще и оно очень простое по своей математике и применению. Конкретно в приведенной формуле распределение ограничено 0 и 1 и имеет пик в $\\theta$, а в обычных случаях оно позволяет посчитать предполагаемую прибыль какого-то ресторана, просто делая предположение о минимуме, максимуме и наиболее вероятном значении при помощи анализа полученного распределения (например через математическое ожидание). Также, в силу простоты, оно может служить некоторой заменой к другим распределениям подобной структуры. Так, если мы, например, наблюдаем образование бактерий на влажной сахарной линии, то очевидно, что надо использовать нормальное распределение, потому что это почти именно то, что оно и отображает. Однако, чтобы использовать нормальное распределение также практическим методом потребуется вычислить дисперсию, что может быть трудной задачей, потому временной заменой может послужить простое треугольное распределение, чтобы пронаблюдать на нем отклонения.\n",
    "\n",
    "#### Задание 3\n",
    "Чтобы построить выборку от равномерного случайного распределения требуется найти $F^{-1}(u)$, что мы фактически искали, вычисляя квантиль уровня $\\gamma$. Чем я и воспользуюсь, описав под ниже."
   ]
  },
  {
   "cell_type": "code",
   "execution_count": 18,
   "id": "868edb81",
   "metadata": {},
   "outputs": [
    {
     "data": {
      "text/plain": [
       "array([[0.18853763, 0.22645892, 0.13844783, 0.21535189, 0.01790164,\n",
       "        0.56393616, 0.05334   , 0.43301732, 0.21738769, 0.09462194,\n",
       "        0.14589598, 0.29073117, 0.33900727, 0.15129075, 0.36887713,\n",
       "        0.03813211, 0.24528289, 0.09287751, 0.118774  , 0.29158743,\n",
       "        0.04194209, 0.37966252, 0.05965763, 0.40947467, 0.09694809],\n",
       "       [0.1301319 , 0.17495701, 0.33159049, 0.41523504, 0.63595313,\n",
       "        0.53694504, 0.2489335 , 0.86549628, 0.43493326, 0.68171645,\n",
       "        0.23741877, 0.59304377, 0.30169388, 0.28319134, 0.1998955 ,\n",
       "        0.56442167, 0.36623405, 0.60746919, 0.34996259, 0.39405929,\n",
       "        0.40420144, 0.13584253, 0.4817954 , 0.38019345, 0.23467191],\n",
       "       [0.58265897, 0.23934494, 0.04684247, 0.85008363, 0.20367127,\n",
       "        0.17445289, 0.64017604, 0.6244191 , 0.26442574, 0.38824921,\n",
       "        0.41774056, 0.72187264, 0.50771514, 0.45172329, 0.83379884,\n",
       "        0.46195071, 0.71587199, 0.04561152, 0.54580552, 0.50128991,\n",
       "        0.16575634, 0.64430478, 0.35109825, 0.11753959, 0.57921897],\n",
       "       [0.32304632, 0.34161969, 0.18210373, 0.35303412, 0.34139815,\n",
       "        0.37854582, 0.4870386 , 0.75460245, 0.25565328, 0.57450612,\n",
       "        0.61735573, 0.32141921, 0.38176577, 0.47852684, 0.21725295,\n",
       "        0.19866092, 0.57432113, 0.50377641, 0.14277328, 0.53287975,\n",
       "        0.66824197, 0.60258867, 0.08655627, 0.96796588, 0.4743929 ],\n",
       "       [0.74054305, 0.37537252, 0.77137267, 0.43921881, 0.80937938,\n",
       "        0.55124369, 0.46874039, 0.13404085, 0.80964379, 0.65565   ,\n",
       "        0.48510705, 0.46973188, 0.62475412, 0.81128563, 0.49138368,\n",
       "        0.66193795, 0.77438365, 0.49769976, 0.45978604, 0.04546467,\n",
       "        0.15446871, 0.6954685 , 0.97831602, 0.22498065, 0.22996067],\n",
       "       [0.65775817, 0.65091408, 0.58996948, 0.66691843, 0.42532564,\n",
       "        0.59371212, 0.68022093, 0.79944546, 0.57514265, 0.81597751,\n",
       "        0.69189881, 0.8460993 , 0.43105551, 0.28506826, 0.79109981,\n",
       "        0.29959315, 0.44159494, 0.63837172, 0.86447814, 0.78991299,\n",
       "        0.46053459, 0.51121493, 0.68463183, 0.54038969, 0.0583065 ]])"
      ]
     },
     "execution_count": 18,
     "metadata": {},
     "output_type": "execute_result"
    }
   ],
   "source": [
    "import numpy as np\n",
    "def generate_triang(theta):\n",
    "    rng = np.random.default_rng()\n",
    "    u = rng.uniform()\n",
    "    if u <= theta: return (theta*u)**0.5\n",
    "    return 1-(1-theta-u+theta*u)**0.5\n",
    "\n",
    "np.array([[generate_triang(0.03+j*0.13) for i in range(25)] for j in range(6)])"
   ]
  }
 ],
 "metadata": {
  "kernelspec": {
   "display_name": "Python 3 (ipykernel)",
   "language": "python",
   "name": "python3"
  },
  "language_info": {
   "codemirror_mode": {
    "name": "ipython",
    "version": 3
   },
   "file_extension": ".py",
   "mimetype": "text/x-python",
   "name": "python",
   "nbconvert_exporter": "python",
   "pygments_lexer": "ipython3",
   "version": "3.9.1"
  }
 },
 "nbformat": 4,
 "nbformat_minor": 5
}
